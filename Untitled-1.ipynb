{
 "cells": [
  {
   "cell_type": "code",
   "execution_count": 1,
   "metadata": {},
   "outputs": [
    {
     "name": "stdout",
     "output_type": "stream",
     "text": [
      "Requirement already satisfied: numpy in f:\\anaconda\\lib\\site-packages (1.26.4)\n"
     ]
    }
   ],
   "source": [
    "!pip install numpy"
   ]
  },
  {
   "cell_type": "code",
   "execution_count": 3,
   "metadata": {},
   "outputs": [
    {
     "name": "stdout",
     "output_type": "stream",
     "text": [
      "[[1 5 3]\n",
      " [9 2 6]\n",
      " [4 8 7]\n",
      " [0 3 2]]\n"
     ]
    }
   ],
   "source": [
    "import numpy as np\n",
    "my_arr=np.array([[1,5,3],[9,2,6],[4,8,7],[0,3,2]])\n",
    "print(my_arr)"
   ]
  },
  {
   "cell_type": "code",
   "execution_count": 15,
   "metadata": {},
   "outputs": [
    {
     "name": "stdout",
     "output_type": "stream",
     "text": [
      "y_hat 1.6\n",
      "loss: 8.999999999999998\n",
      "derivative: [ -6. -21.]\n",
      "update [0.26 0.61]\n"
     ]
    }
   ],
   "source": [
    "theta=np.array([0.2,0.4]) #theta=[b w]\n",
    "y=4.6\n",
    "\n",
    "sample=np.array([1,3.5])\n",
    "\n",
    "\n",
    "#predict\n",
    "y_hat=theta.T.dot(sample)\n",
    "print('y_hat' ,y_hat)\n",
    "\n",
    "\n",
    "loss=(y_hat-y)*(y_hat-y)\n",
    "\n",
    "print('loss:',loss)\n",
    "dtheta=2*sample*(y_hat-y)\n",
    "print('derivative:',dtheta)\n",
    "#update\n",
    "theta=theta-0.01*dtheta\n",
    "print('update',theta)\n",
    "\n"
   ]
  },
  {
   "cell_type": "code",
   "execution_count": null,
   "metadata": {},
   "outputs": [],
   "source": []
  }
 ],
 "metadata": {
  "kernelspec": {
   "display_name": "base",
   "language": "python",
   "name": "python3"
  },
  "language_info": {
   "codemirror_mode": {
    "name": "ipython",
    "version": 3
   },
   "file_extension": ".py",
   "mimetype": "text/x-python",
   "name": "python",
   "nbconvert_exporter": "python",
   "pygments_lexer": "ipython3",
   "version": "3.12.4"
  }
 },
 "nbformat": 4,
 "nbformat_minor": 2
}
